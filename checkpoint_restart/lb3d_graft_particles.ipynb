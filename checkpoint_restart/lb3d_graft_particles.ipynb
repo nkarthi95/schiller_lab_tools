{
 "cells": [
  {
   "cell_type": "code",
   "execution_count": 1,
   "id": "23c92735",
   "metadata": {},
   "outputs": [],
   "source": [
    "import numpy as np\n",
    "import glob\n",
    "from lb3d_checkpoint_io import *\n",
    "import copy\n",
    "import os\n",
    "\n",
    "import sys"
   ]
  },
  {
   "cell_type": "code",
   "execution_count": null,
   "id": "033551a7",
   "metadata": {},
   "outputs": [],
   "source": [
    "nx, ny, nz = [64, 64, 128]\n",
    "Q = 19\n",
    "gr_out = \"restart\"\n",
    "\n",
    "# checkpoint to use fluid data\n",
    "fluid_timestep = 10000\n",
    "input_fluid_path = \"copy_system/np_5\"\n",
    "nprocs = 4\n",
    "\n",
    "# checkpoint to use MD data\n",
    "md_timestep = 10000\n",
    "input_md_path = \"copy_system/np_25\"\n",
    "\n",
    "output_path = f\"{input_fluid_path}/graft_particles/{input_md_path}\"\n",
    "os.makedirs(output_path, exist_ok=True)"
   ]
  },
  {
   "cell_type": "code",
   "execution_count": 3,
   "id": "f0a4405d",
   "metadata": {},
   "outputs": [
    {
     "name": "stdout",
     "output_type": "stream",
     "text": [
      "Checkpoints to be copied have been read\n"
     ]
    }
   ],
   "source": [
    "## READING FLUID CHECKPOINTS ##\n",
    "checkparams_files = sorted(glob.glob(f\"{input_fluid_path}/checkparams*{fluid_timestep:08d}*.xdr\"))[0]\n",
    "fluid_checkpoint_files = sorted(glob.glob(f\"{input_fluid_path}/checkpoint*{fluid_timestep:08d}*.xdr\"))\n",
    "checktopo_files = sorted(glob.glob(f\"{input_fluid_path}/checktopo*{fluid_timestep:08d}*.xdr\"))[0]\n",
    "md_checkpoint_files = sorted(glob.glob(f\"{input_fluid_path}/md-checkpoint*{fluid_timestep:08d}*.xdr\"))[0]\n",
    "\n",
    "curr_check_params = read_checkparams_xdr(checkparams_files)\n",
    "curr_topo = read_checktopo_xdr(checktopo_files, nprocs = nprocs)\n",
    "curr_fluid_params = read_checkpoint_xdr(fluid_checkpoint_files, nx, ny, nz, curr_topo, Q)\n",
    "curr_md_params = read_md_checkpoint_xdr(md_checkpoint_files, use_rotation=True, interaction=\"ladd\", n_spec = 2)\n",
    "## READING FLUID CHECKPOINTS ##\n",
    "\n",
    "## READING MD CHECKPOINTS ##\n",
    "md_checkpoint_files = sorted(glob.glob(f\"{input_md_path}/md-checkpoint*{md_timestep:08d}*.xdr\"))[0]\n",
    "\n",
    "new_md_params = read_md_checkpoint_xdr(md_checkpoint_files, use_rotation=True, interaction=\"ladd\", n_spec = 2)\n",
    "## READING MD CHECKPOINTS ##\n",
    "\n",
    "print(\"Checkpoints to be copied have been read\")"
   ]
  },
  {
   "cell_type": "markdown",
   "id": "817c58b5",
   "metadata": {},
   "source": [
    "# Parameter file"
   ]
  },
  {
   "cell_type": "code",
   "execution_count": 4,
   "id": "e289f55c",
   "metadata": {},
   "outputs": [
    {
     "name": "stdout",
     "output_type": "stream",
     "text": [
      "New parameter file generated\n"
     ]
    }
   ],
   "source": [
    "## PARAMETER CHECKPOINT FILE ##\n",
    "new_check_params = copy.deepcopy(curr_check_params)\n",
    "print(\"New parameter file generated\")\n",
    "## PARAMETER CHECKPOINT FILE ##"
   ]
  },
  {
   "cell_type": "markdown",
   "id": "503a7399",
   "metadata": {},
   "source": [
    "# Fluid files"
   ]
  },
  {
   "cell_type": "code",
   "execution_count": null,
   "id": "5390a4db",
   "metadata": {},
   "outputs": [
    {
     "name": "stdout",
     "output_type": "stream",
     "text": [
      "New fluid checkpoint file generated\n"
     ]
    }
   ],
   "source": [
    "# ## FLUID CHECKPOINT FILE ##\n",
    "new_fluid_params = curr_fluid_params.copy()\n",
    "print(\"New fluid checkpoint file generated\")\n",
    "# ## FLUID CHECKPOINT FILE ##"
   ]
  },
  {
   "cell_type": "markdown",
   "id": "5ea4da6a",
   "metadata": {},
   "source": [
    "# Topology"
   ]
  },
  {
   "cell_type": "code",
   "execution_count": 6,
   "id": "0e5227e7",
   "metadata": {},
   "outputs": [
    {
     "name": "stdout",
     "output_type": "stream",
     "text": [
      "New mpi topology file generated\n"
     ]
    }
   ],
   "source": [
    "## TOPOLOGY CHECKPOINT FILE ##\n",
    "new_topo = copy.deepcopy(curr_topo)\n",
    "new_topo['cdims'] = [1,1,1]\n",
    "new_topo['all_ccoords'] = [0,0,0]\n",
    "new_topo['nprocs'] = 1\n",
    "print(\"New mpi topology file generated\")\n",
    "## TOPOLOGY CHECKPOINT FILE ##"
   ]
  },
  {
   "cell_type": "markdown",
   "id": "99fcff57",
   "metadata": {},
   "source": [
    "# MD Files"
   ]
  },
  {
   "cell_type": "code",
   "execution_count": 7,
   "id": "6ac5c823",
   "metadata": {},
   "outputs": [],
   "source": [
    "new_md_params = copy.deepcopy(new_md_params)"
   ]
  },
  {
   "cell_type": "markdown",
   "id": "ab73d799",
   "metadata": {},
   "source": [
    "# Output"
   ]
  },
  {
   "cell_type": "code",
   "execution_count": 10,
   "id": "50370941",
   "metadata": {},
   "outputs": [
    {
     "name": "stdout",
     "output_type": "stream",
     "text": [
      "Checkpoint output successful!. UID:1146934485\n"
     ]
    }
   ],
   "source": [
    "## OUTPUTTING NEW CHECKPOINTS ##\n",
    "uid = np.random.randint(0, 2**31, 1)[0] # Generating random number of a signed FP32 integer\n",
    "\n",
    "checkparams_file_template = \"checkparams_{0}_t{1:08d}-{2:010d}.xdr\"\n",
    "fluid_checkpoint_file_template = \"checkpoint_{0}_t{1:08d}-{2:010d}_p{3:06d}.xdr\"\n",
    "checktopo_file_template = \"checktopo_{0}_t{1:08d}-{2:010d}.xdr\"\n",
    "md_checkpoint_file_template = \"md-checkpoint_{0}_t{1:08d}-{2:010d}.xdr\"\n",
    "\n",
    "output_params_path = output_path + \"/\" + checkparams_file_template.format(gr_out, fluid_timestep, uid)\n",
    "output_fluid_path = output_path + \"/\" + fluid_checkpoint_file_template.format(gr_out, fluid_timestep, uid, 0)\n",
    "output_topo_path = output_path + \"/\" + checktopo_file_template.format(gr_out, fluid_timestep, uid)\n",
    "output_md_check_path = output_path + \"/\" + md_checkpoint_file_template.format(gr_out, fluid_timestep, uid)\n",
    "\n",
    "write_checkparams_xdr(output_params_path, new_check_params)\n",
    "write_checkpoint_xdr(output_fluid_path, new_fluid_params, nx, ny, nz)\n",
    "write_checktopo_xdr(output_topo_path, new_topo)\n",
    "write_md_checkpoint_xdr(output_md_check_path, new_md_params[\"particles\"], \n",
    "                        use_rotation=True, steps_per_lbe_step=1, interaction=\"ladd\",\n",
    "                        ladd_props=new_md_params['ladd_data'],\n",
    "                        n_spec=2)\n",
    "\n",
    "print(f\"Checkpoint output successful!. UID:{uid}\")\n",
    "## OUTPUTTING NEW CHECKPOINTS ##"
   ]
  }
 ],
 "metadata": {
  "kernelspec": {
   "display_name": "Python 3",
   "language": "python",
   "name": "python3"
  },
  "language_info": {
   "codemirror_mode": {
    "name": "ipython",
    "version": 3
   },
   "file_extension": ".py",
   "mimetype": "text/x-python",
   "name": "python",
   "nbconvert_exporter": "python",
   "pygments_lexer": "ipython3",
   "version": "3.9.21"
  }
 },
 "nbformat": 4,
 "nbformat_minor": 5
}
