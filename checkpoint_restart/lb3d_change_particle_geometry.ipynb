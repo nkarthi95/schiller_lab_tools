{
 "cells": [
  {
   "cell_type": "code",
   "execution_count": 1,
   "id": "c8045e5f",
   "metadata": {},
   "outputs": [],
   "source": [
    "import numpy as np\n",
    "import glob\n",
    "from lb3d_checkpoint_io import *\n",
    "import copy\n",
    "import os\n",
    "\n",
    "import sys"
   ]
  },
  {
   "cell_type": "code",
   "execution_count": 2,
   "id": "0591c770",
   "metadata": {},
   "outputs": [
    {
     "data": {
      "text/plain": [
       "'\\nCopy a simulation box containing a droplet along the z-direction.\\n\\nThis script copies a simulation box with a droplet centered in the middle of the domain,\\nextending it in the z-direction. It supports slicing of the box in the z-direction to\\ncontrol the vertical spacing between droplets. Uses functions in the `lb3d_checkpoint.py` module.\\n\\nParameters\\n----------\\npath : str\\n    Directory of checkpoint files to copy.\\n\\nnx : int\\n    Box size in the x-direction.\\n\\nny : int\\n    Box size in the y-direction.\\n\\nnz : int\\n    Box size in the z-direction.\\n\\nQ : int\\n    Number of dimensions in the LBM simulation. Defaults to 19.    \\n\\ntimestep : int\\n    Timestep of the simulation checkpoint to copy.\\n\\nnprocs : int\\n    Number of processes used in the generation of the checkpoints to be copied.\\n\\ngr_out : str\\n    Identity (prefix) of the new checkpoint files to be written.\\n\\njoin_cut : int\\n    Distance (in lattice units) to be removed from the center of the extended simulation domain.\\n    This controls how far apart the duplicated droplets are. A value of 0 duplicates the box as is;\\n    increasing values reduce the distance between droplets.\\n\\nother_cut : int\\n    Distance (in lattice units) to be removed from the sides of the extended simulation domain.\\n    This controls how close the droplets are to the periodic domain of the box. A value of 0 keeps\\n    the droplets spaced the same distance from the side of the box as the input. Increasing values reduce\\n    the distance to the side of the periodic domain.\\n\\nReturns\\n-------\\nNone\\n    Writes new checkpoint files to disk with the updated domain size and duplicated droplets in the folder with variable name output_path\\n'"
      ]
     },
     "execution_count": 2,
     "metadata": {},
     "output_type": "execute_result"
    }
   ],
   "source": [
    "\"\"\"\n",
    "Copy a simulation box containing a droplet along the z-direction.\n",
    "\n",
    "This script copies a simulation box with a droplet centered in the middle of the domain,\n",
    "extending it in the z-direction. It supports slicing of the box in the z-direction to\n",
    "control the vertical spacing between droplets. Uses functions in the `lb3d_checkpoint.py` module.\n",
    "\n",
    "Parameters\n",
    "----------\n",
    "path : str\n",
    "    Directory of checkpoint files to copy.\n",
    "\n",
    "nx : int\n",
    "    Box size in the x-direction.\n",
    "\n",
    "ny : int\n",
    "    Box size in the y-direction.\n",
    "\n",
    "nz : int\n",
    "    Box size in the z-direction.\n",
    "\n",
    "Q : int\n",
    "    Number of dimensions in the LBM simulation. Defaults to 19.    \n",
    "\n",
    "timestep : int\n",
    "    Timestep of the simulation checkpoint to copy.\n",
    "\n",
    "nprocs : int\n",
    "    Number of processes used in the generation of the checkpoints to be copied.\n",
    "\n",
    "gr_out : str\n",
    "    Identity (prefix) of the new checkpoint files to be written.\n",
    "\n",
    "join_cut : int\n",
    "    Distance (in lattice units) to be removed from the center of the extended simulation domain.\n",
    "    This controls how far apart the duplicated droplets are. A value of 0 duplicates the box as is;\n",
    "    increasing values reduce the distance between droplets.\n",
    "\n",
    "other_cut : int\n",
    "    Distance (in lattice units) to be removed from the sides of the extended simulation domain.\n",
    "    This controls how close the droplets are to the periodic domain of the box. A value of 0 keeps\n",
    "    the droplets spaced the same distance from the side of the box as the input. Increasing values reduce\n",
    "    the distance to the side of the periodic domain.\n",
    "\n",
    "Returns\n",
    "-------\n",
    "None\n",
    "    Writes new checkpoint files to disk with the updated domain size and duplicated droplets in the folder with variable name output_path\n",
    "\"\"\""
   ]
  },
  {
   "cell_type": "code",
   "execution_count": 3,
   "id": "e5a57682",
   "metadata": {},
   "outputs": [],
   "source": [
    "## EDIT THIS ONLY ##\n",
    "# if len(sys.argv) > 1:\n",
    "#     path = sys.argv[1]\n",
    "#     nx = int(sys.argv[2])\n",
    "#     ny = int(sys.argv[3])\n",
    "#     nz = int(sys.argv[4])\n",
    "#     timestep = int(sys.argv[5])\n",
    "#     nprocs = int(sys.argv[6])\n",
    "#     join_cut = int(sys.argv[7])\n",
    "#     other_cut = int(sys.argv[8])\n",
    "\n",
    "path = \"droplet_checkpoints/templates/Ro_10-Rp_5-np_144\"\n",
    "nx, ny, nz = [256, 256, 512]\n",
    "Q = 19\n",
    "timestep = 1000000\n",
    "nprocs = 128\n",
    "Rp_old = 5\n",
    "Ro_old = 10\n",
    "npart = 144\n",
    "rhof = 0.7\n",
    "\n",
    "gr_out = \"template\"\n",
    "Rp_new = 14.1\n",
    "Ro_new = 7.1\n",
    "## EDIT THIS ONLY ##\n",
    "\n",
    "output_path = f\"{path}/templates/Ro_{Ro_new}-Rp_{Rp_new}-np_{npart}\"\n",
    "os.makedirs(output_path, exist_ok=True)"
   ]
  },
  {
   "cell_type": "code",
   "execution_count": null,
   "id": "ef606372",
   "metadata": {},
   "outputs": [
    {
     "name": "stdout",
     "output_type": "stream",
     "text": [
      "Checkpoints to be copied have been read\n"
     ]
    }
   ],
   "source": [
    "## READING OLD CHECKPOINTS ##\n",
    "checkparams_files = sorted(glob.glob(f\"{path}/checkparams*{timestep:08d}*.xdr\"))[0]\n",
    "fluid_checkpoint_files = sorted(glob.glob(f\"{path}/checkpoint*{timestep:08d}*.xdr\"))\n",
    "checktopo_files = sorted(glob.glob(f\"{path}/checktopo*{timestep:08d}*.xdr\"))[0]\n",
    "md_checkpoint_files = sorted(glob.glob(f\"{path}/md-checkpoint*{timestep:08d}*.xdr\"))[0]\n",
    "\n",
    "curr_check_params = read_checkparams_xdr(checkparams_files)\n",
    "curr_topo = read_checktopo_xdr(checktopo_files, nprocs = nprocs)\n",
    "curr_fluid_params = read_checkpoint_xdr(fluid_checkpoint_files, nx, ny, nz, curr_topo, Q)\n",
    "curr_md_params = read_md_checkpoint_xdr(md_checkpoint_files, use_rotation=True, interaction=\"ladd\", n_spec = 2)\n",
    "print(\"Checkpoints to be copied have been read\")\n",
    "## READING OLD CHECKPOINTS ##"
   ]
  },
  {
   "cell_type": "markdown",
   "id": "e1ee30d2",
   "metadata": {},
   "source": [
    "# Fluid files"
   ]
  },
  {
   "cell_type": "code",
   "execution_count": 5,
   "id": "8ed46a3d",
   "metadata": {},
   "outputs": [
    {
     "name": "stdout",
     "output_type": "stream",
     "text": [
      "New fluid checkpoint file generated\n"
     ]
    }
   ],
   "source": [
    "# ## FLUID CHECKPOINT FILE ##\n",
    "new_fluid_params = curr_fluid_params.copy()\n",
    "print(\"New fluid checkpoint file generated\")\n",
    "# ## FLUID CHECKPOINT FILE ##"
   ]
  },
  {
   "cell_type": "markdown",
   "id": "1310fbab",
   "metadata": {},
   "source": [
    "# MD Files"
   ]
  },
  {
   "cell_type": "code",
   "execution_count": null,
   "id": "9b834a3f",
   "metadata": {},
   "outputs": [
    {
     "name": "stdout",
     "output_type": "stream",
     "text": [
      "New MD checkpoint file generated\n"
     ]
    }
   ],
   "source": [
    "## MD CHECKPOINT FILE ##\n",
    "new_md_params = copy.deepcopy(curr_md_params)\n",
    "\n",
    "# new_particles = [] \n",
    "# n = len(new_md_params[\"particles\"])\n",
    "new_particles = new_md_params[\"particles\"]\n",
    "\n",
    "## mass correction scheme also needs to be adjusted. \n",
    "ladd_data = new_md_params['ladd_data']\n",
    "mass_target = np.array(ladd_data[\"global_mass_target\"])\n",
    "new_ladd_data = copy.deepcopy(ladd_data)\n",
    "\n",
    "## TECHNIQUE 3: Calculating mass of box components after slicing ##\n",
    "old_particle_masses = 4/3*np.pi*Ro_old*Ro_old*Rp_old*npart*rhof\n",
    "new_particle_masses = 4/3*np.pi*Ro_new*Ro_new*Rp_new*npart*rhof\n",
    "particle_masses = new_particle_masses# - old_particle_masses\n",
    "new_target_mass = np.array([np.sum(new_fluid_params[..., :Q])/curr_check_params['taubulk_r'], np.sum(new_fluid_params[..., Q:2*Q])/curr_check_params['taubulk_b']])\n",
    "new_target_mass -= particle_masses/4\n",
    "new_ladd_data[\"global_mass_target\"] = new_target_mass\n",
    "## TECHNIQUE 3: Calculating mass of box components after slicing ##\n",
    "\n",
    "new_md_params['ladd_data'] = new_ladd_data\n",
    "print(\"New MD checkpoint file generated\")\n",
    "## MD CHECKPOINT FILE ##"
   ]
  },
  {
   "cell_type": "markdown",
   "id": "f605e89c",
   "metadata": {},
   "source": [
    "# Output"
   ]
  },
  {
   "cell_type": "code",
   "execution_count": null,
   "id": "2dc684a3",
   "metadata": {},
   "outputs": [
    {
     "name": "stdout",
     "output_type": "stream",
     "text": [
      "Checkpoint output successful!. UID:1873612666\n"
     ]
    }
   ],
   "source": [
    "## OUTPUTTING NEW CHECKPOINTS ##\n",
    "uid = np.random.randint(0, 2**31, 1)[0] # Generating random number of a signed FP32 integer\n",
    "\n",
    "checkparams_file_template = \"checkparams_{0}_t{1:08d}-{2:010d}.xdr\"\n",
    "fluid_checkpoint_file_template = \"checkpoint_{0}_t{1:08d}-{2:010d}_p{3:06d}.xdr\"\n",
    "checktopo_file_template = \"checktopo_{0}_t{1:08d}-{2:010d}.xdr\"\n",
    "md_checkpoint_file_template = \"md-checkpoint_{0}_t{1:08d}-{2:010d}.xdr\"\n",
    "\n",
    "# output_params_path = output_path + \"/\" + checkparams_file_template.format(gr_out, timestep, uid)\n",
    "# output_fluid_path = output_path + \"/\" + fluid_checkpoint_file_template.format(gr_out, timestep, uid, 0)\n",
    "# output_topo_path = output_path + \"/\" + checktopo_file_template.format(gr_out, timestep, uid)\n",
    "output_md_check_path = output_path + \"/\" + md_checkpoint_file_template.format(gr_out, timestep, uid)\n",
    "\n",
    "# write_checkparams_xdr(output_params_path, new_check_params)\n",
    "# write_checkpoint_xdr(output_fluid_path, new_fluid_params, nx, ny, 2*(nz - join_cut - other_cut))\n",
    "# write_checktopo_xdr(output_topo_path, new_topo)\n",
    "write_md_checkpoint_xdr(output_md_check_path, new_md_params[\"particles\"], \n",
    "                        use_rotation=True, steps_per_lbe_step=1, interaction=\"ladd\",\n",
    "                        ladd_props=new_md_params['ladd_data'],\n",
    "                        n_spec=2)\n",
    "\n",
    "print(f\"Checkpoint output successful!. UID:{uid}\")\n",
    "## OUTPUTTING NEW CHECKPOINTS ##"
   ]
  },
  {
   "cell_type": "code",
   "execution_count": null,
   "id": "43089c02",
   "metadata": {},
   "outputs": [
    {
     "data": {
      "text/plain": [
       "<matplotlib.colorbar.Colorbar at 0x7f05c6f09c10>"
      ]
     },
     "execution_count": 10,
     "metadata": {},
     "output_type": "execute_result"
    },
    {
     "data": {
      "image/png": "[encoded data removed]",
      "text/plain": [
       "<Figure size 640x480 with 2 Axes>"
      ]
     },
     "metadata": {},
     "output_type": "display_data"
    }
   ],
   "source": [
    "# import matplotlib.pyplot as plt\n",
    "\n",
    "# new_topo = read_checktopo_xdr(output_topo_path)\n",
    "# test = read_checkpoint_xdr([output_fluid_path], nx, ny, 2*(nz - join_cut - other_cut), new_topo)\n",
    "\n",
    "# tiled_phi = np.sum(test[..., :Q], axis = -1) - np.sum(test[..., Q:2*Q], axis = -1)\n",
    "# plt.imshow(tiled_phi[:, ny//2, :], cmap = 'bwr')\n",
    "# plt.colorbar(orientation = \"horizontal\")"
   ]
  },
  {
   "cell_type": "code",
   "execution_count": 11,
   "id": "2866a7c4",
   "metadata": {},
   "outputs": [
    {
     "data": {
      "text/plain": [
       "(64, 64, 156)"
      ]
     },
     "execution_count": 11,
     "metadata": {},
     "output_type": "execute_result"
    }
   ],
   "source": [
    "tiled_phi.shape"
   ]
  },
  {
   "cell_type": "code",
   "execution_count": null,
   "id": "1c9dc40f",
   "metadata": {},
   "outputs": [],
   "source": []
  }
 ],
 "metadata": {
  "kernelspec": {
   "display_name": "Python 3",
   "language": "python",
   "name": "python3"
  },
  "language_info": {
   "codemirror_mode": {
    "name": "ipython",
    "version": 3
   },
   "file_extension": ".py",
   "mimetype": "text/x-python",
   "name": "python",
   "nbconvert_exporter": "python",
   "pygments_lexer": "ipython3",
   "version": "3.9.21"
  }
 },
 "nbformat": 4,
 "nbformat_minor": 5
}
