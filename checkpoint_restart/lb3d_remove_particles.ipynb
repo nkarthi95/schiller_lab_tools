{
 "cells": [
  {
   "cell_type": "code",
   "execution_count": null,
   "id": "23c92735",
   "metadata": {},
   "outputs": [
    {
     "data": {
      "text/html": [
       "<pre style=\"white-space:pre;overflow-x:auto;line-height:normal;font-family:Menlo,'DejaVu Sans Mono',consolas,'Courier New',monospace\"><span style=\"color: #7fbfbf; text-decoration-color: #7fbfbf\">[15:57:28] </span><span style=\"color: #800000; text-decoration-color: #800000; font-weight: bold\">ERROR   </span> PARDISO solver not installed, run `pip install pypardiso`. Otherwise,          <a href=\"file:///usa/nkarthi/.conda/envs/nkarthiEnv/lib/python3.9/site-packages/openpnm/utils/_workspace.py\" target=\"_blank\"><span style=\"color: #7f7f7f; text-decoration-color: #7f7f7f\">_workspace.py</span></a><span style=\"color: #7f7f7f; text-decoration-color: #7f7f7f\">:</span><a href=\"file:///usa/nkarthi/.conda/envs/nkarthiEnv/lib/python3.9/site-packages/openpnm/utils/_workspace.py#56\" target=\"_blank\"><span style=\"color: #7f7f7f; text-decoration-color: #7f7f7f\">56</span></a>\n",
       "<span style=\"color: #7fbfbf; text-decoration-color: #7fbfbf\">           </span>         simulations will be slow. Apple M chips not supported.                         <span style=\"color: #7f7f7f; text-decoration-color: #7f7f7f\">                </span>\n",
       "</pre>\n"
      ],
      "text/plain": [
       "\u001b[2;36m[15:57:28]\u001b[0m\u001b[2;36m \u001b[0m\u001b[1;31mERROR   \u001b[0m PARDISO solver not installed, run `pip install pypardiso`. Otherwise,          \u001b]8;id=121519;file:///usa/nkarthi/.conda/envs/nkarthiEnv/lib/python3.9/site-packages/openpnm/utils/_workspace.py\u001b\\\u001b[2m_workspace.py\u001b[0m\u001b]8;;\u001b\\\u001b[2m:\u001b[0m\u001b]8;id=657338;file:///usa/nkarthi/.conda/envs/nkarthiEnv/lib/python3.9/site-packages/openpnm/utils/_workspace.py#56\u001b\\\u001b[2m56\u001b[0m\u001b]8;;\u001b\\\n",
       "\u001b[2;36m           \u001b[0m         simulations will be slow. Apple M chips not supported.                         \u001b[2m                \u001b[0m\n"
      ]
     },
     "metadata": {},
     "output_type": "display_data"
    }
   ],
   "source": [
    "import numpy as np\n",
    "import glob\n",
    "from lb3d_checkpoint_io import *\n",
    "import copy\n",
    "import os\n",
    "\n",
    "import sys"
   ]
  },
  {
   "cell_type": "code",
   "execution_count": 2,
   "id": "82159fac",
   "metadata": {},
   "outputs": [],
   "source": [
    "path = \"anisotropic_particle\"\n",
    "nx, ny, nz = [64, 64, 128]\n",
    "Q = 19\n",
    "timestep = 10000\n",
    "nprocs = 4\n",
    "Rp = 8\n",
    "Ro = 4\n",
    "npart_old = 5\n",
    "rhof = 0.7\n",
    "radius_prop = 0.7 # assumes z is the long axis if box size is not cubic\n",
    "\n",
    "gr_out = \"restart\"\n",
    "## EDIT THIS ONLY ##\n",
    "\n",
    "output_path = f\"{path}/remove_particles/\"\n",
    "os.makedirs(output_path, exist_ok=True)"
   ]
  },
  {
   "cell_type": "code",
   "execution_count": 3,
   "id": "f0a4405d",
   "metadata": {},
   "outputs": [
    {
     "name": "stdout",
     "output_type": "stream",
     "text": [
      "Checkpoints to be copied have been read\n"
     ]
    }
   ],
   "source": [
    "## READING OLD CHECKPOINTS ##\n",
    "checkparams_files = sorted(glob.glob(f\"{path}/checkparams*{timestep:08d}*.xdr\"))[0]\n",
    "fluid_checkpoint_files = sorted(glob.glob(f\"{path}/checkpoint*{timestep:08d}*.xdr\"))\n",
    "checktopo_files = sorted(glob.glob(f\"{path}/checktopo*{timestep:08d}*.xdr\"))[0]\n",
    "md_checkpoint_files = sorted(glob.glob(f\"{path}/md-checkpoint*{timestep:08d}*.xdr\"))[0]\n",
    "\n",
    "curr_check_params = read_checkparams_xdr(checkparams_files)\n",
    "curr_topo = read_checktopo_xdr(checktopo_files, nprocs = nprocs)\n",
    "curr_fluid_params = read_checkpoint_xdr(fluid_checkpoint_files, nx, ny, nz, curr_topo, Q)\n",
    "curr_md_params = read_md_checkpoint_xdr(md_checkpoint_files, use_rotation=True, interaction=\"ladd\", n_spec = 2)\n",
    "print(\"Checkpoints to be copied have been read\")\n",
    "## READING OLD CHECKPOINTS ##"
   ]
  },
  {
   "cell_type": "markdown",
   "id": "817c58b5",
   "metadata": {},
   "source": [
    "# Parameter file"
   ]
  },
  {
   "cell_type": "code",
   "execution_count": 4,
   "id": "e289f55c",
   "metadata": {},
   "outputs": [
    {
     "name": "stdout",
     "output_type": "stream",
     "text": [
      "New parameter file generated\n"
     ]
    }
   ],
   "source": [
    "## PARAMETER CHECKPOINT FILE ##\n",
    "new_check_params = copy.deepcopy(curr_check_params)\n",
    "print(\"New parameter file generated\")\n",
    "## PARAMETER CHECKPOINT FILE ##"
   ]
  },
  {
   "cell_type": "markdown",
   "id": "503a7399",
   "metadata": {},
   "source": [
    "# Fluid files"
   ]
  },
  {
   "cell_type": "code",
   "execution_count": 5,
   "id": "4682847c",
   "metadata": {},
   "outputs": [],
   "source": [
    "## FLUID CHECKPOINT FILE ##\n",
    "weights = np.array([1./3.,\n",
    "                    1./18.,\n",
    "                    1./18.,\n",
    "                    1./18.,\n",
    "                    1./18.,\n",
    "                    1./18.,\n",
    "                    1./18.,\n",
    "                    1./36.,\n",
    "                    1./36.,\n",
    "                    1./36.,\n",
    "                    1./36.,\n",
    "                    1./36.,\n",
    "                    1./36.,\n",
    "                    1./36.,\n",
    "                    1./36.,\n",
    "                    1./36.,\n",
    "                    1./36.,\n",
    "                    1./36.,\n",
    "                    1./36.\n",
    "                    ])\n",
    "\n",
    "od = np.sum(curr_fluid_params[..., :Q], axis = -1)\n",
    "od = fill(od)\n",
    "od = np.einsum(\"ijk, l -> ijkl\", od, weights)\n",
    "\n",
    "wd = np.sum(curr_fluid_params[..., Q:2*Q], axis = -1)\n",
    "wd = fill(wd)\n",
    "wd = np.einsum(\"ijk, l -> ijkl\", wd, weights)\n",
    "\n",
    "new_fluid_params = curr_fluid_params.copy()\n",
    "new_fluid_params[..., :Q] = od\n",
    "new_fluid_params[..., Q:2*Q] = wd\n",
    "## FLUID CHECKPOINT FILE ##"
   ]
  },
  {
   "cell_type": "markdown",
   "id": "5ea4da6a",
   "metadata": {},
   "source": [
    "# Topology"
   ]
  },
  {
   "cell_type": "code",
   "execution_count": 6,
   "id": "0e5227e7",
   "metadata": {},
   "outputs": [
    {
     "name": "stdout",
     "output_type": "stream",
     "text": [
      "New mpi topology file generated\n"
     ]
    }
   ],
   "source": [
    "## TOPOLOGY CHECKPOINT FILE ##\n",
    "new_topo = copy.deepcopy(curr_topo)\n",
    "new_topo['cdims'] = [1,1,1]\n",
    "new_topo['all_ccoords'] = [0,0,0]\n",
    "new_topo['nprocs'] = 1\n",
    "print(\"New mpi topology file generated\")\n",
    "## TOPOLOGY CHECKPOINT FILE ##"
   ]
  },
  {
   "cell_type": "markdown",
   "id": "99fcff57",
   "metadata": {},
   "source": [
    "# MD Files"
   ]
  },
  {
   "cell_type": "code",
   "execution_count": 7,
   "id": "1f6e7626",
   "metadata": {},
   "outputs": [
    {
     "name": "stdout",
     "output_type": "stream",
     "text": [
      "New MD checkpoint file generated\n"
     ]
    }
   ],
   "source": [
    "## MD CHECKPOINT FILE ##\n",
    "new_md_params = copy.deepcopy(curr_md_params)\n",
    "\n",
    "new_particles = [] \n",
    "\n",
    "## mass correction scheme also needs to be adjusted. \n",
    "ladd_data = new_md_params['ladd_data']\n",
    "new_ladd_data = copy.deepcopy(ladd_data)\n",
    "new_target_mass = np.array([np.sum(od)/new_check_params['taubulk_r'], np.sum(wd)/new_check_params['taubulk_b']])\n",
    "new_ladd_data[\"global_mass_target\"] = new_target_mass\n",
    "\n",
    "new_md_params['particles'] = new_particles\n",
    "new_md_params['ladd_data'] = new_ladd_data\n",
    "print(\"New MD checkpoint file generated\")\n",
    "## MD CHECKPOINT FILE ##"
   ]
  },
  {
   "cell_type": "markdown",
   "id": "ab73d799",
   "metadata": {},
   "source": [
    "# Output"
   ]
  },
  {
   "cell_type": "code",
   "execution_count": 8,
   "id": "50370941",
   "metadata": {},
   "outputs": [
    {
     "name": "stdout",
     "output_type": "stream",
     "text": [
      "Checkpoint output successful!. UID:1644876659\n"
     ]
    }
   ],
   "source": [
    "## OUTPUTTING NEW CHECKPOINTS ##\n",
    "uid = np.random.randint(0, 2**31, 1)[0] # Generating random number of a signed FP32 integer\n",
    "\n",
    "checkparams_file_template = \"checkparams_{0}_t{1:08d}-{2:010d}.xdr\"\n",
    "fluid_checkpoint_file_template = \"checkpoint_{0}_t{1:08d}-{2:010d}_p{3:06d}.xdr\"\n",
    "checktopo_file_template = \"checktopo_{0}_t{1:08d}-{2:010d}.xdr\"\n",
    "md_checkpoint_file_template = \"md-checkpoint_{0}_t{1:08d}-{2:010d}.xdr\"\n",
    "\n",
    "output_params_path = output_path + \"/\" + checkparams_file_template.format(gr_out, timestep, uid)\n",
    "output_fluid_path = output_path + \"/\" + fluid_checkpoint_file_template.format(gr_out, timestep, uid, 0)\n",
    "output_topo_path = output_path + \"/\" + checktopo_file_template.format(gr_out, timestep, uid)\n",
    "output_md_check_path = output_path + \"/\" + md_checkpoint_file_template.format(gr_out, timestep, uid)\n",
    "\n",
    "write_checkparams_xdr(output_params_path, new_check_params)\n",
    "write_checkpoint_xdr(output_fluid_path, new_fluid_params, nx, ny, nz)\n",
    "write_checktopo_xdr(output_topo_path, new_topo)\n",
    "write_md_checkpoint_xdr(output_md_check_path, new_md_params[\"particles\"], \n",
    "                        use_rotation=True, steps_per_lbe_step=1, interaction=\"ladd\",\n",
    "                        ladd_props=new_md_params['ladd_data'],\n",
    "                        n_spec=2)\n",
    "\n",
    "print(f\"Checkpoint output successful!. UID:{uid}\")\n",
    "## OUTPUTTING NEW CHECKPOINTS ##"
   ]
  }
 ],
 "metadata": {
  "kernelspec": {
   "display_name": "Python 3",
   "language": "python",
   "name": "python3"
  },
  "language_info": {
   "codemirror_mode": {
    "name": "ipython",
    "version": 3
   },
   "file_extension": ".py",
   "mimetype": "text/x-python",
   "name": "python",
   "nbconvert_exporter": "python",
   "pygments_lexer": "ipython3",
   "version": "3.9.21"
  }
 },
 "nbformat": 4,
 "nbformat_minor": 5
}
