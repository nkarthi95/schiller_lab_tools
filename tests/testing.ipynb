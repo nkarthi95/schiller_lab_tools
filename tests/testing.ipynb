{
 "cells": [
  {
   "cell_type": "code",
   "execution_count": null,
   "metadata": {},
   "outputs": [],
   "source": [
    "import schiller_lab_tools\n",
    "import glob\n",
    "import numpy as np\n",
    "import matplotlib.pyplot as plt\n",
    "from IPython.display import HTML\n",
    "\n",
    "from scipy.cluster.vq import kmeans, whiten"
   ]
  },
  {
   "cell_type": "markdown",
   "metadata": {},
   "source": [
    "# Data import"
   ]
  },
  {
   "cell_type": "code",
   "execution_count": 2,
   "metadata": {},
   "outputs": [],
   "source": [
    "wd = schiller_lab_tools.read_hdf5(glob.glob(\"wd*.h5\")[0])\n",
    "od = schiller_lab_tools.read_hdf5(glob.glob(\"od*.h5\")[0])\n",
    "md, t = schiller_lab_tools.read_asc(glob.glob(\"md-cfg*.asc\")[0])\n",
    "md = md.sort_values(by = ['p_id'])\n",
    "md = md.reset_index()\n",
    "md = md.drop(['index'], axis = 1)\n",
    "boxDims = wd.shape\n",
    "\n",
    "phi = od - wd\n",
    "phi_fill = schiller_lab_tools.microstructure_analysis.fill(phi)"
   ]
  },
  {
   "cell_type": "markdown",
   "metadata": {},
   "source": [
    "# Visualization"
   ]
  },
  {
   "cell_type": "code",
   "execution_count": null,
   "metadata": {},
   "outputs": [],
   "source": [
    "x = np.random.randn(32, 30)\n",
    "y = np.random.randn(32, 30)\n",
    "\n",
    "ani = schiller_lab_tools.visualization.animate_plot(x, y)\n",
    "HTML(ani.to_jshtml())"
   ]
  },
  {
   "cell_type": "code",
   "execution_count": null,
   "metadata": {},
   "outputs": [],
   "source": [
    "test = np.random.randn(30, 32, 32)*10\n",
    "\n",
    "ani = schiller_lab_tools.visualization.animate_colormap(test)\n",
    "HTML(ani.to_jshtml())"
   ]
  },
  {
   "cell_type": "markdown",
   "metadata": {},
   "source": [
    "# Microstructure analysis"
   ]
  },
  {
   "cell_type": "code",
   "execution_count": null,
   "metadata": {},
   "outputs": [],
   "source": [
    "k1 = schiller_lab_tools.microstructure_analysis.spherical_first_moment(phi_fill)\n",
    "D1 = 2*np.pi/k1\n",
    "D1"
   ]
  },
  {
   "cell_type": "code",
   "execution_count": null,
   "metadata": {},
   "outputs": [],
   "source": [
    "k2 = schiller_lab_tools.microstructure_analysis.second_moment(phi_fill)\n",
    "D2 = 2*np.pi/np.sqrt(k2)\n",
    "D2"
   ]
  },
  {
   "cell_type": "code",
   "execution_count": null,
   "metadata": {},
   "outputs": [],
   "source": [
    "S_i = schiller_lab_tools.microstructure_analysis.interface_order(phi_fill)\n",
    "S_i"
   ]
  },
  {
   "cell_type": "code",
   "execution_count": null,
   "metadata": {},
   "outputs": [],
   "source": [
    "filter_func = lambda x: np.where(x > 0, 1, 0)\n",
    "\n",
    "phi_bin = schiller_lab_tools.microstructure_analysis.label_regions_hk(phi_fill, filter=filter_func)\n",
    "\n",
    "fig, axs = plt.subplots(1, 2, figsize = (8, 4))\n",
    "\n",
    "slc = np.s_[:, boxDims[1]//2, :]\n",
    "\n",
    "ax = axs[0]\n",
    "im = ax.imshow(phi_fill[slc])\n",
    "ax.set_title(\"raw input\")\n",
    "plt.colorbar(im, ax = ax, orientation = \"horizontal\", shrink = 0.8)\n",
    "\n",
    "ax = axs[1]\n",
    "im = ax.imshow(phi_bin[slc])\n",
    "ax.set_title(\"Binarized\")\n",
    "plt.colorbar(im, ax = ax, orientation = \"horizontal\", shrink = 0.8)"
   ]
  },
  {
   "cell_type": "code",
   "execution_count": null,
   "metadata": {},
   "outputs": [],
   "source": [
    "limit = 2/D1\n",
    "K, H, A = schiller_lab_tools.microstructure_analysis.curvature(phi_fill, (limit**2, limit))\n",
    "\n",
    "fig, axs = plt.subplots(1, 2, figsize = (8, 4))\n",
    "a = 0.6\n",
    "b = 20\n",
    "\n",
    "ax = axs[0]\n",
    "ax.hist(K, alpha = a, edgecolor = \"k\", bins = b, density = True)\n",
    "ax.set_title(\"Gaussian curvature\")\n",
    "\n",
    "ax = axs[1]\n",
    "ax.hist(H, alpha = a, edgecolor = \"k\", bins = b, density = True)\n",
    "ax.set_title(\"Mean curvature\")"
   ]
  },
  {
   "cell_type": "code",
   "execution_count": null,
   "metadata": {},
   "outputs": [],
   "source": [
    "pn = schiller_lab_tools.microstructure_analysis.get_pn(phi_fill, parallel = {'cores':1, 'divs':[1, 1, 1], 'overlap':8})\n",
    "\n",
    "fig, axs = plt.subplots(2,2, figsize = (6, 6), layout = \"constrained\")\n",
    "a = 0.6\n",
    "b = 20\n",
    "\n",
    "ax = axs[0, 0]\n",
    "parameter = 'pore.equivalent_diameter' \n",
    "ax.hist(pn[parameter], alpha = a, bins = b, density = True, edgecolor = \"k\")\n",
    "ax.set_title(parameter)\n",
    "\n",
    "ax = axs[0, 1]\n",
    "parameter = 'pore.inscribed_diameter' \n",
    "ax.hist(pn[parameter], alpha = a, bins = b, density = True, edgecolor = \"k\")\n",
    "ax.set_title(parameter)\n",
    "\n",
    "ax = axs[1, 0]\n",
    "parameter = 'throat.equivalent_diameter' \n",
    "ax.hist(pn[parameter], alpha = a, bins = b, density = True, edgecolor = \"k\")\n",
    "ax.set_title(parameter)\n",
    "\n",
    "ax = axs[1, 1]\n",
    "parameter = 'throat.inscribed_diameter' \n",
    "ax.hist(pn[parameter], alpha = a, bins = b, density = True, edgecolor = \"k\")\n",
    "ax.set_title(parameter)"
   ]
  },
  {
   "cell_type": "code",
   "execution_count": null,
   "metadata": {},
   "outputs": [],
   "source": [
    "filter_func = lambda x: np.where(x > 0, 1, 0)\n",
    "tau_s = schiller_lab_tools.microstructure_analysis.taufactor_tortuosity(phi_fill, filter = filter_func)"
   ]
  },
  {
   "cell_type": "markdown",
   "metadata": {},
   "source": [
    "# Particle Analysis"
   ]
  },
  {
   "cell_type": "code",
   "execution_count": null,
   "metadata": {},
   "outputs": [],
   "source": [
    "positions = md[['x', 'y', 'z']].to_numpy()\n",
    "orientations = md[['o_x', 'o_y', 'o_z']].to_numpy()\n",
    "theta, not_in_interface = schiller_lab_tools.particle_analysis.calculate_average_cos_interface_normal(phi_fill, positions, orientations, step_size = 2)\n",
    "\n",
    "fig, ax = plt.subplots(1, 1, figsize = (4, 4))\n",
    "a = 0.6\n",
    "b = 20\n",
    "bins, counts, patch = ax.hist(theta, alpha = a, bins = b, edgecolor = \"k\", density = True)\n",
    "ax.set_title(\"Angle to interface normal\")"
   ]
  },
  {
   "cell_type": "code",
   "execution_count": 18,
   "metadata": {},
   "outputs": [],
   "source": [
    "orientations = md[['o_z', 'o_y', 'o_x']].to_numpy()\n",
    "S = schiller_lab_tools.particle_analysis.calculate_nematic_order(orientations, director = [0, 0, 1])"
   ]
  },
  {
   "cell_type": "code",
   "execution_count": null,
   "metadata": {},
   "outputs": [],
   "source": [
    "positions = md[['x', 'y', 'z']].to_numpy()\n",
    "r, gr = schiller_lab_tools.particle_analysis.calculate_rdf(boxDims, positions)\n",
    "\n",
    "fig, ax = plt.subplots(1, 1, figsize = (4, 4))\n",
    "ax.plot(r, gr, ls = \"-\", marker = \"None\", markerfacecolor = \"None\")\n",
    "ax.set_title(\"RDF\")"
   ]
  },
  {
   "cell_type": "code",
   "execution_count": null,
   "metadata": {},
   "outputs": [],
   "source": [
    "positions = md[['x', 'y', 'z']].to_numpy()\n",
    "Q4 = schiller_lab_tools.particle_analysis.calculate_ql(boxDims, positions, L = 4)\n",
    "Q6 = schiller_lab_tools.particle_analysis.calculate_ql(boxDims, positions, L = 6)\n",
    "\n",
    "test = np.array([Q4, Q6])\n",
    "test = test.T\n",
    "# test = whiten(test)\n",
    "\n",
    "clusters = 1\n",
    "centers, mean_dist = kmeans(test, k_or_guess = clusters)\n",
    "\n",
    "fig, ax = plt.subplots(1, 1, figsize = (4, 4))\n",
    "\n",
    "ax.plot(test[:, 0], test[:, 1], ls = \"None\", marker = \".\", markerfacecolor = \"None\", color = \"tab:blue\")\n",
    "# ax.scatter(test[:, 0], test[:, 1])\n",
    "for i in range(clusters):\n",
    "    ax.plot(centers[i,0], centers[i, 1], color = \"tab:red\", marker = \"o\", ms = 10)"
   ]
  },
  {
   "cell_type": "code",
   "execution_count": null,
   "metadata": {},
   "outputs": [],
   "source": [
    "positions = md[['x', 'y', 'z']].to_numpy()\n",
    "w4 = schiller_lab_tools.particle_analysis.calculate_wl(boxDims, positions, L = 4)\n",
    "w6 = schiller_lab_tools.particle_analysis.calculate_wl(boxDims, positions, L = 6)\n",
    "\n",
    "test = np.array([w4, w6])\n",
    "test = test.T\n",
    "# test = whiten(test)\n",
    "\n",
    "clusters = 1\n",
    "centers, mean_dist = kmeans(test, k_or_guess = clusters)\n",
    "\n",
    "fig, ax = plt.subplots(1, 1, figsize = (4, 4))\n",
    "ax.plot(test[:, 0], test[:, 1], ls = \"None\", marker = \".\", markerfacecolor = \"None\")\n",
    "ax.set_xlabel(\"w4\")\n",
    "ax.set_ylabel(\"w6\")\n",
    "\n",
    "for i in range(clusters):\n",
    "    ax.plot(centers[i,0], centers[i, 1], color = \"tab:red\", marker = \"o\", ms = 10)"
   ]
  },
  {
   "cell_type": "code",
   "execution_count": null,
   "metadata": {},
   "outputs": [],
   "source": [
    "plt.plot(Q4, w4, ls = \"None\", marker = \".\", color = \"tab:blue\", markerfacecolor = \"None\")\n",
    "plt.xlabel(\"Q6\")\n",
    "plt.ylabel(\"w4\")"
   ]
  },
  {
   "cell_type": "code",
   "execution_count": null,
   "metadata": {},
   "outputs": [],
   "source": []
  }
 ],
 "metadata": {
  "kernelspec": {
   "display_name": "nkarthiEnv",
   "language": "python",
   "name": "python3"
  },
  "language_info": {
   "codemirror_mode": {
    "name": "ipython",
    "version": 3
   },
   "file_extension": ".py",
   "mimetype": "text/x-python",
   "name": "python",
   "nbconvert_exporter": "python",
   "pygments_lexer": "ipython3",
   "version": "3.9.21"
  }
 },
 "nbformat": 4,
 "nbformat_minor": 2
}
